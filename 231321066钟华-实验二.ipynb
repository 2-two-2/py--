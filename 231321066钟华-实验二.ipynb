{
 "cells": [
  {
   "cell_type": "markdown",
   "metadata": {},
   "source": [
    "# 实验指导二\n",
    "# 目的\n",
    "## 1.掌握解决计算问题的一般方法\n",
    "## 2.掌握Python语言的基本语法，包括缩进、变量、命名等\n",
    "## 3.掌握Python 顺序、选择、循环结构的使用以及异常的处理\n",
    "## 4.了解Python标准库的导入和使用\n",
    "# 内容"
   ]
  },
  {
   "cell_type": "markdown",
   "metadata": {},
   "source": [
    "## 1、参考温度转化代码，设计汇率双向转化程序，可实现以下美元和人民币的相互转换（1美元 = 6.3人民币）"
   ]
  },
  {
   "cell_type": "code",
   "execution_count": 25,
   "metadata": {},
   "outputs": [
    {
     "name": "stdout",
     "output_type": "stream",
     "text": [
      "请输入金额：4\n",
      "人民币转化为美元为：0.6349206349206349\n"
     ]
    }
   ],
   "source": [
    "money=input(\"请输入金额：\")\n",
    "if(money[-1] in ['$']):\n",
    "    rmb=eval(money[0:-1]*6.3)\n",
    "    print(\"美元转换为人民币为：{}\".format(rmb))\n",
    "else:\n",
    "    dollar=eval(money)/6.3\n",
    "    print(\"人民币转化为美元为：{}\".format(dollar))"
   ]
  },
  {
   "cell_type": "markdown",
   "metadata": {},
   "source": [
    "## 2、参考测试用例，实现递降阶乘"
   ]
  },
  {
   "cell_type": "code",
   "execution_count": 23,
   "metadata": {},
   "outputs": [
    {
     "data": {
      "text/plain": [
       "TestResults(failed=0, attempted=5)"
      ]
     },
     "execution_count": 23,
     "metadata": {},
     "output_type": "execute_result"
    }
   ],
   "source": [
    "def falling(n, k):\n",
    "    \"\"\"计算从n开始的下降阶乘，深度为k.测试用例如下\n",
    "\n",
    "    >>> falling(6, 3)  # 6 * 5 * 4\n",
    "    120\n",
    "    >>> falling(4, 3)  # 4 * 3 * 2\n",
    "    24\n",
    "    >>> falling(4, 1)  # 4\n",
    "    4\n",
    "    >>> falling(4, 0)\n",
    "    1\n",
    "    >>> falling(3, 4)\n",
    "    error: input n=3 is not enough, please try again\n",
    "    0\n",
    "    \"\"\"\n",
    "    if(n >= k):\n",
    "        sum=1\n",
    "        for i in range(k):\n",
    "            sum=sum*n\n",
    "            n=n-1\n",
    "        return sum\n",
    "    else:\n",
    "        print(\"error: input n={} is not enough, please try again\".format(n))\n",
    "        return 0\n",
    "import doctest\n",
    "doctest.testmod()\n",
    "        "
   ]
  },
  {
   "cell_type": "markdown",
   "metadata": {},
   "source": [
    "##  3、按注释提示及用例，完成整数y的各位求和函数。"
   ]
  },
  {
   "cell_type": "code",
   "execution_count": 8,
   "metadata": {},
   "outputs": [
    {
     "data": {
      "text/plain": [
       "TestResults(failed=0, attempted=11)"
      ]
     },
     "execution_count": 8,
     "metadata": {},
     "output_type": "execute_result"
    }
   ],
   "source": [
    "def sum_digits(y):\n",
    "    \"\"\"对y所代表整数的各位进行求和.测试用例如下所示\n",
    "\n",
    "    >>> sum_digits(10) # 1 + 0 = 1\n",
    "    1\n",
    "    >>> sum_digits(4224) # 4 + 2 + 2 + 4 = 12\n",
    "    12\n",
    "    >>> sum_digits(1234567890)\n",
    "    45\n",
    "    >>> a = sum_digits(123) # 注意这里是返回值，而不是print打印\n",
    "    >>> a\n",
    "    6\n",
    "    >>> sum_digits(0.1)\n",
    "    error: please input an integer!\n",
    "    0\n",
    "    \"\"\"\n",
    "    if(isinstance(y,int)):\n",
    "        i=0\n",
    "        while(y!=0):\n",
    "            i=int(i+y%10)\n",
    "            y=int(y/10)\n",
    "        return i\n",
    "    else:\n",
    "        print(\"error: please input an integer!\")\n",
    "        return 0\n",
    "import doctest\n",
    "doctest.testmod()"
   ]
  },
  {
   "cell_type": "markdown",
   "metadata": {},
   "source": [
    "## 4、按注释提示及用例，完成整数n中是否包含连续的2个k的检测函数。"
   ]
  },
  {
   "cell_type": "code",
   "execution_count": 1,
   "metadata": {},
   "outputs": [
    {
     "data": {
      "text/plain": [
       "TestResults(failed=0, attempted=7)"
      ]
     },
     "execution_count": 1,
     "metadata": {},
     "output_type": "execute_result"
    }
   ],
   "source": [
    "def double_nums_check(n, k):\n",
    "    \"\"\"\n",
    "    当n中包含了连续的两个k时，返回True\n",
    "    >>> double_nums_check(8, 8)\n",
    "    False\n",
    "    >>> double_nums_check(88, 8)\n",
    "    True\n",
    "    >>> double_nums_check(2882, 8)\n",
    "    True\n",
    "    >>> double_nums_check(2882, 2)\n",
    "    False\n",
    "    >>> double_nums_check(12345, 3)\n",
    "    False\n",
    "    >>> double_nums_check(80808080, 8)\n",
    "    False\n",
    "    >>> double_nums_check(\"aabc\", \"a\")\n",
    "    error: please input two integer!\n",
    "    False\n",
    "    \"\"\"\n",
    "    import math\n",
    "    a=False\n",
    "    if(isinstance(n,int)):\n",
    "        x=1\n",
    "        num1=n/math.pow(10,x)%10\n",
    "        while num1 >=1:\n",
    "            num1=n/math.pow(10,x)%10\n",
    "            x+=1\n",
    "        for i in range(x):\n",
    "            num1=n/math.pow(10,i)%10\n",
    "            num2=n/math.pow(10,i+1)%10\n",
    "            num1=int(num1)\n",
    "            num2=int(num2)\n",
    "            if(num1 == num2 == k):\n",
    "                a=True\n",
    "                break\n",
    "    else:\n",
    "        print(\"error: please input two integer!\")\n",
    "    return a\n",
    "import doctest\n",
    "doctest.testmod()"
   ]
  },
  {
   "cell_type": "code",
   "execution_count": null,
   "metadata": {},
   "outputs": [],
   "source": []
  }
 ],
 "metadata": {
  "kernelspec": {
   "display_name": "Python 3",
   "language": "python",
   "name": "python3"
  },
  "language_info": {
   "codemirror_mode": {
    "name": "ipython",
    "version": 3
   },
   "file_extension": ".py",
   "mimetype": "text/x-python",
   "name": "python",
   "nbconvert_exporter": "python",
   "pygments_lexer": "ipython3",
   "version": "3.7.3"
  }
 },
 "nbformat": 4,
 "nbformat_minor": 2
}
