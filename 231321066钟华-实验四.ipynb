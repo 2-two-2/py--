{
 "cells": [
  {
   "cell_type": "markdown",
   "metadata": {},
   "source": [
    "# 实验指导四\n",
    "# 目的\n",
    "## 1.掌握Python中高阶函数的使用方法\n",
    "## 2.掌握lambda表达式的使用方法\n",
    "## 3.掌握递归调用的使用和迭代的转换\n",
    "# 内容"
   ]
  },
  {
   "cell_type": "markdown",
   "metadata": {},
   "source": [
    "## 完成以下lambda表达式"
   ]
  },
  {
   "cell_type": "code",
   "execution_count": 9,
   "metadata": {},
   "outputs": [
    {
     "data": {
      "text/plain": [
       "TestResults(failed=0, attempted=22)"
      ]
     },
     "execution_count": 9,
     "metadata": {},
     "output_type": "execute_result"
    }
   ],
   "source": [
    "# 求平方\n",
    "\"\"\"\n",
    ">>> square(2)\n",
    "4\n",
    ">>> identity(100)\n",
    "100\n",
    ">>> triple(3)\n",
    "9\n",
    ">>> increment(6)\n",
    "7\n",
    "\"\"\"\n",
    "square = lambda x:x*x\n",
    "\n",
    "# 返回本身\n",
    "identity = lambda x:x\n",
    "\n",
    "# 求3倍数\n",
    "triple = lambda x:x*3\n",
    "\n",
    "# 增1\n",
    "increment =lambda x:x+1\n",
    "\n",
    "import doctest\n",
    "doctest.testmod()\n"
   ]
  },
  {
   "cell_type": "markdown",
   "metadata": {},
   "source": [
    "## 使用上述lambda表达式算法，完成算法泛化函数"
   ]
  },
  {
   "cell_type": "code",
   "execution_count": 10,
   "metadata": {},
   "outputs": [
    {
     "data": {
      "text/plain": [
       "TestResults(failed=0, attempted=22)"
      ]
     },
     "execution_count": 10,
     "metadata": {},
     "output_type": "execute_result"
    }
   ],
   "source": [
    "def product(n, algo):\n",
    "    \"\"\"返回 前n个数分别algo计算后的累乘积\n",
    "    n: 正整数\n",
    "    algo:  算法函数\n",
    "    >>> product(3, identity)  # 1 * 2 * 3\n",
    "    6\n",
    "    >>> product(5, identity)  # 1 * 2 * 3 * 4 * 5\n",
    "    120\n",
    "    >>> product(3, square)    # 1^2 * 2^2 * 3^2\n",
    "    36\n",
    "    >>> product(5, square)    # 1^2 * 2^2 * 3^2 * 4^2 * 5^2\n",
    "    14400\n",
    "    >>> product(3, increment) # (1+1) * (2+1) * (3+1)\n",
    "    24\n",
    "    >>> product(3, triple)    # 1*3 * 2*3 * 3*3\n",
    "    162\n",
    "    \"\"\"\n",
    "    sum=1\n",
    "    while n>=1:\n",
    "      sum = sum *algo(n)\n",
    "      n=n-1\n",
    "    return sum\n",
    "import doctest\n",
    "doctest.testmod()   "
   ]
  },
  {
   "cell_type": "markdown",
   "metadata": {},
   "source": [
    "## 用递归改写上例"
   ]
  },
  {
   "cell_type": "code",
   "execution_count": 11,
   "metadata": {},
   "outputs": [
    {
     "data": {
      "text/plain": [
       "TestResults(failed=0, attempted=22)"
      ]
     },
     "execution_count": 11,
     "metadata": {},
     "output_type": "execute_result"
    }
   ],
   "source": [
    "def product_rec(n, algo):\n",
    "    \"\"\"返回 前n个数分别algo计算后的累乘积\n",
    "    n: 正整数\n",
    "    algo:  算法函数\n",
    "    >>> product_rec(3, identity)  # 1 * 2 * 3\n",
    "    6\n",
    "    >>> product_rec(5, identity)  # 1 * 2 * 3 * 4 * 5\n",
    "    120\n",
    "    >>> product_rec(3, square)    # 1^2 * 2^2 * 3^2\n",
    "    36\n",
    "    >>> product_rec(5, square)    # 1^2 * 2^2 * 3^2 * 4^2 * 5^2\n",
    "    14400\n",
    "    >>> product_rec(3, increment) # (1+1) * (2+1) * (3+1)\n",
    "    24\n",
    "    >>> product_rec(3, triple)    # 1*3 * 2*3 * 3*3\n",
    "    162\n",
    "    \"\"\"\n",
    "    assert n >= 1\n",
    "    if n==1:\n",
    "        return algo(1)\n",
    "    else:\n",
    "      return product_rec(n=n-1,algo=algo)*algo(n)\n",
    "import doctest\n",
    "doctest.testmod()  "
   ]
  },
  {
   "cell_type": "markdown",
   "metadata": {},
   "source": [
    "## 按照注释补充完整函数功能\n"
   ]
  },
  {
   "cell_type": "code",
   "execution_count": 12,
   "metadata": {},
   "outputs": [
    {
     "data": {
      "text/plain": [
       "TestResults(failed=0, attempted=22)"
      ]
     },
     "execution_count": 12,
     "metadata": {},
     "output_type": "execute_result"
    }
   ],
   "source": [
    "def composer(func1, func2):\n",
    "    \"\"\"返回函数f, 使得其满足f(x) = func1(func2(x)).\"\"\"\n",
    "    def f(x):\n",
    "        return func1(func2(x))\n",
    "    return f\n",
    "\n",
    "def make_repeater(func, n):\n",
    "    \"\"\"返回计算第n遍func操作的函数\n",
    "    >>> add_three = make_repeater(increment, 3)\n",
    "    >>> add_three(5)\n",
    "    8\n",
    "    >>> make_repeater(triple, 5)(1) # 3 * 3 * 3 * 3 * 3 * 1\n",
    "    243\n",
    "    >>> make_repeater(square, 2)(5) # square(square(5))\n",
    "    625\n",
    "    >>> make_repeater(square, 4)(5) # square(square(square(square(5))))\n",
    "    152587890625\n",
    "    >>> make_repeater(square, 0)(5) # 当n为0时,返回identity(x)\n",
    "    5\n",
    "    \"\"\"\n",
    "    assert n >= 0\n",
    "    if n == 0:\n",
    "        return identity\n",
    "    else:\n",
    "        return composer(func,make_repeater(func,n-1))\n",
    "import doctest\n",
    "doctest.testmod()  "
   ]
  }
 ],
 "metadata": {
  "kernelspec": {
   "display_name": "base",
   "language": "python",
   "name": "python3"
  },
  "language_info": {
   "codemirror_mode": {
    "name": "ipython",
    "version": 3
   },
   "file_extension": ".py",
   "mimetype": "text/x-python",
   "name": "python",
   "nbconvert_exporter": "python",
   "pygments_lexer": "ipython3",
   "version": "3.7.3"
  },
  "orig_nbformat": 3
 },
 "nbformat": 4,
 "nbformat_minor": 2
}
