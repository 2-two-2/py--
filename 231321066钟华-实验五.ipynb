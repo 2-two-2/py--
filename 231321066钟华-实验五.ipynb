{
 "cells": [
  {
   "attachments": {},
   "cell_type": "markdown",
   "metadata": {},
   "source": [
    "# 实验指导五\n",
    "# 目的\n",
    "## 1.掌握列表、元组、字典、集合的使用方法\n",
    "## 2.掌握各数据类型的常用函数\n",
    "## 3.了解各数据类型的使用场景\n",
    "## 4.了解迭代器、可迭代对象、生成器的概念和基本使用\n",
    "# 内容"
   ]
  },
  {
   "cell_type": "markdown",
   "metadata": {},
   "source": [
    "## 1.幼儿园体检要对小朋友们的体重做评估，对超出平均体重的小朋友需要提示他们进行锻炼。‬‬‬‬‬‬‬‬‬‬‬‬‬‬‬‬‬‬‬‬‬‬‬‬‬‬‬‬‬‬‬‬‬‬‬‬‬‬‬‬\n",
    "## 编程实现：给定一组数值，输出比平均体重更重的那些数值。‬‬‬‬‬‬‬‬‬‬‬‬‬‬‬‬‬‬‬‬‬‬‬‬‬‬‬‬‬‬‬‬‬‬‬‬‬‬‬‬"
   ]
  },
  {
   "cell_type": "code",
   "execution_count": 1,
   "metadata": {},
   "outputs": [],
   "source": [
    "# 设计evaluate函数及用例\n",
    "from functools import reduce\n",
    "\n",
    "def evaluate(weight_list):\n",
    "    \"\"\"\n",
    "    >>> evaluate([24.5,28,21,20,19])\n",
    "    [24.5, 28]\n",
    "\n",
    "    >>> evaluate([28])\n",
    "    []\n",
    "\n",
    "    >>> evaluate([25.6, 24.6, 20, 19])\n",
    "    [25.6, 24.6]\n",
    "\n",
    "    >>> evaluate([20, 20, 20, 20])\n",
    "    []\n",
    "    \"\"\"\n",
    "    if not weight_list:\n",
    "      return []\n",
    "    Sum=reduce(lambda x, y: x + y, weight_list)\n",
    "    avg=Sum/len(weight_list)\n",
    "    return list(s for s in weight_list if s > avg)\n",
    "\n",
    "if __name__ == \"__main__\":\n",
    "    import doctest\n",
    "    doctest.testmod()"
   ]
  },
  {
   "cell_type": "markdown",
   "metadata": {},
   "source": [
    "## 2.编写程序，利用字典统计字符串中的字母和数字出现的次数（字母不区分大小写）。\n",
    "## 例如输入abc1ab，输出{'a': 2, 'b': 2, 'c': 1, '1': 1}"
   ]
  },
  {
   "cell_type": "code",
   "execution_count": 32,
   "metadata": {},
   "outputs": [],
   "source": [
    "\n",
    "def count(s):\n",
    "    \"\"\" 对s字符串中的字母和数字统计出现次数（注意不区分字母大小写，统一用小写）\n",
    "    >>> count(\"abc1ab\")\n",
    "    {'a': 2, 'b': 2, 'c': 1, '1': 1}\n",
    "    >>> count(\"#bc1ab\")\n",
    "    {'b': 2, 'c': 1, '1': 1, 'a': 1}\n",
    "    >>> count(\"AbC1ab\")\n",
    "    {'a': 2, 'b': 2, 'c': 1, '1': 1}\n",
    "    \"\"\"\n",
    "    dict = {}\n",
    "    for char in s:\n",
    "        if char.isalpha(): #检测字符串是否只由字母组成。\n",
    "            char = char.lower()#将大写字母小写化\n",
    "            dict[char] = dict.get(char, 0) + 1 \n",
    "        elif char.isdigit(): #检测字符串是否只由数字组成，只对 0 和 正数有效。\n",
    "            dict[char] = dict.get(char, 0) + 1\n",
    "    return dict\n",
    "if __name__ == \"__main__\":\n",
    "    import doctest\n",
    "    doctest.testmod()"
   ]
  },
  {
   "cell_type": "markdown",
   "metadata": {},
   "source": [
    "## 3、编写自定义的map和filter操作"
   ]
  },
  {
   "cell_type": "code",
   "execution_count": 3,
   "metadata": {},
   "outputs": [],
   "source": [
    "def my_map(fn, seq):\n",
    "    \"\"\"对seq列表的所有元素应用fn函数，并返回list.\n",
    "    >>> my_map(lambda x: x*x, [1, 2, 3])\n",
    "    [1, 4, 9]\n",
    "    >>> my_map(lambda x: abs(x), [1, -1, 5, 3, 0])\n",
    "    [1, 1, 5, 3, 0]\n",
    "    >>> my_map(lambda x: print(x), ['cs61a', 'spring', '2023'])\n",
    "    cs61a\n",
    "    spring\n",
    "    2023\n",
    "    [None, None, None]\n",
    "    \"\"\"\n",
    "    \n",
    "    return [fn(x) for x in seq]\n",
    "        \n",
    "    \n",
    "    \n",
    "    \n",
    "\n",
    "\n",
    "def my_filter(pred, seq):\n",
    "    \"\"\"仅当seq元素满足pred条件保留。\n",
    "    >>> my_filter(lambda x: x % 2 == 0, [1, 2, 3, 4])  # new list has only even-valued elements\n",
    "    [2, 4]\n",
    "    >>> my_filter(lambda x: (x + 5) % 3 == 0, [1, 2, 3, 4, 5])\n",
    "    [1, 4]\n",
    "    >>> my_filter(lambda x: print(x), [1, 2, 3, 4, 5])\n",
    "    1\n",
    "    2\n",
    "    3\n",
    "    4\n",
    "    5\n",
    "    []\n",
    "    >>> my_filter(lambda x: max(5, x) == 5, [1, 2, 3, 4, 5, 6, 7])\n",
    "    [1, 2, 3, 4, 5]\n",
    "    \"\"\"\n",
    "    \n",
    "    return [x for x in seq if pred(x)]\n",
    "    \n",
    "if __name__ == \"__main__\":\n",
    "    import doctest\n",
    "    doctest.testmod()"
   ]
  },
  {
   "cell_type": "markdown",
   "metadata": {},
   "source": [
    "## 4、利用斐波拉契数实现斐波拉契数生成器，并进行遍历"
   ]
  },
  {
   "cell_type": "code",
   "execution_count": 43,
   "metadata": {},
   "outputs": [],
   "source": [
    "#方法一----->更加简洁---->归并思想\n",
    "def fibo_generator(n):\n",
    "    \"\"\"\n",
    "    斐波拉契数列生成器，n为斐波拉契数列个数\n",
    "    \"\"\"\n",
    "    #处理n小于1的情况\n",
    "    if not isinstance(n, int) or n < 1:\n",
    "        raise ValueError(\"n必须是正整数\")\n",
    "    a, b = 1, 1\n",
    "    #处理n大于等于1的情况\n",
    "    for i in range(1,n+1):\n",
    "        if i ==1 or i == 2:\n",
    "            b=1\n",
    "        else:\n",
    "            a, b = b, a + b\n",
    "        yield b\n",
    "\n",
    "\n",
    " \n",
    "def get_fibo_list(f, n):\n",
    "    \n",
    "    \"\"\"利用fibo_generator产生n个斐波拉契数的列表并返回\n",
    "    >>> get_fibo_list(fibo_generator, 2)\n",
    "    [1, 1]\n",
    "    >>> get_fibo_list(fibo_generator, 10)\n",
    "    [1, 1, 2, 3, 5, 8, 13, 21, 34, 55]\n",
    "    >>> get_fibo_list(fibo_generator, 1)\n",
    "    [1]\n",
    "    \n",
    "    \"\"\"\n",
    "    return list(f(n))\n",
    "    \n",
    "\n",
    "if __name__ == \"__main__\":\n",
    "    import doctest\n",
    "    doctest.testmod()"
   ]
  },
  {
   "cell_type": "code",
   "execution_count": 41,
   "metadata": {},
   "outputs": [],
   "source": [
    "#方法二----->便于理解---->顺势思考\n",
    "def fibo_generator(n):\n",
    "    \"\"\"\n",
    "    斐波拉契数列生成器，n为斐波拉契数列个数\n",
    "    \"\"\"\n",
    "    #处理n小于1的情况\n",
    "    if not isinstance(n, int) or n < 1:\n",
    "        raise ValueError(\"n必须是正整数\")\n",
    "    a, b = 1, 1\n",
    "    yield a\n",
    "    #处理n等于1的情况\n",
    "    if n == 1:\n",
    "        return\n",
    "    yield b\n",
    "    #处理n大于1的情况\n",
    "    for i in range(n - 2):\n",
    "        a, b = b, a + b\n",
    "        yield b\n",
    "\n",
    "\n",
    " \n",
    "def get_fibo_list(f, n):\n",
    "    \n",
    "    \"\"\"利用fibo_generator产生n个斐波拉契数的列表并返回\n",
    "    >>> get_fibo_list(fibo_generator, 2)\n",
    "    [1, 1]\n",
    "    >>> get_fibo_list(fibo_generator, 10)\n",
    "    [1, 1, 2, 3, 5, 8, 13, 21, 34, 55]\n",
    "    >>> get_fibo_list(fibo_generator, 1)\n",
    "    [1]\n",
    "    \n",
    "    \"\"\"\n",
    "    return list(f(n))\n",
    "    \n",
    "\n",
    "if __name__ == \"__main__\":\n",
    "    import doctest\n",
    "    doctest.testmod()"
   ]
  }
 ],
 "metadata": {
  "kernelspec": {
   "display_name": "Python 3.8.5 64-bit (conda)",
   "metadata": {
    "interpreter": {
     "hash": "6247228d9724cd8f331f7ee55c12e93f00e2cd97435a0bf55a63572790f54dbe"
    }
   },
   "name": "python3"
  },
  "language_info": {
   "codemirror_mode": {
    "name": "ipython",
    "version": 3
   },
   "file_extension": ".py",
   "mimetype": "text/x-python",
   "name": "python",
   "nbconvert_exporter": "python",
   "pygments_lexer": "ipython3",
   "version": "3.7.3"
  },
  "orig_nbformat": 3
 },
 "nbformat": 4,
 "nbformat_minor": 2
}
