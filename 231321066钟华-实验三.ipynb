{
 "cells": [
  {
   "cell_type": "markdown",
   "metadata": {},
   "source": [
    "# 实验指导三\n",
    "# 目的\n",
    "## 1.掌握Python中函数的使用方法\n",
    "## 2.掌握参数的传递和作用域\n",
    "## 3.掌握参数的类型及缺省值的使用\n",
    "# 内容"
   ]
  },
  {
   "cell_type": "markdown",
   "metadata": {},
   "source": [
    "## 1、参考课本p140，用7段数码管显示9-0的倒计时"
   ]
  },
  {
   "cell_type": "code",
   "execution_count": null,
   "metadata": {},
   "outputs": [],
   "source": [
    "import turtle as t\n",
    "import time\n",
    "\n",
    "def drawGap():\n",
    "    \"\"\"\n",
    "    绘制数码管间隔\n",
    "    \"\"\"\n",
    "    t.penup()\n",
    "    t.fd(20)\n",
    "    \n",
    "def drawLine(draw):\n",
    "    \"\"\"\n",
    "    #绘制单段数码管\n",
    "    \"\"\" \n",
    "    drawGap()\n",
    "    t.pendown() if draw else t.penup()\n",
    "    t.fd(80)\n",
    "    t.right(90)\n",
    "    \n",
    "def drawDigit(digit):\n",
    "    \"\"\"\n",
    "    画0-9的数字\n",
    "    \"\"\"\n",
    "    drawLine(True) if digit in [2,3,4,5,6,8,9] else drawLine(False)\n",
    "    drawLine(True) if digit in [0,1,3,4,5,6,7,8,9] else drawLine(False)\n",
    "    drawLine(True) if digit in [0,2,3,5,6,8,9] else drawLine(False)\n",
    "    drawLine(True) if digit in [0,2,6,8] else drawLine(False)\n",
    "    t.left(90)\n",
    "    drawLine(True) if digit in [0,4,5,6,8,9] else drawLine(False)\n",
    "    drawLine(True) if digit in [0,2,3,5,6,7,8,9] else drawLine(False)\n",
    "    drawLine(True) if digit in [0,1,2,3,4,7,8,9] else drawLine(False)\n",
    "    t.left(180)\n",
    "    t.penup()\n",
    "    t.fd(20)\n",
    "    \n",
    "def draw_count_down():\n",
    "    \"\"\"\n",
    "    请补充画倒计时（注意每次画完后刷新）\n",
    "    turtle.home()回到中心点\n",
    "    turtle.clear()刷新界面\n",
    "    \"\"\"\n",
    "    for i in range(9,0,-1):\n",
    "        t.home()\n",
    "        drawDigit(i)\n",
    "        t.clear()       \n",
    "def main():\n",
    "    t.setup(920,680,200,200)\n",
    "    t.penup()\n",
    "    t.fd(-300)\n",
    "    t.pensize(20)\n",
    "    t.pencolor(\"purple\")\n",
    "    \n",
    "    draw_count_down()\n",
    "    \n",
    "    t.hideturtle()\n",
    "    t.done()\n",
    "\n",
    "main()"
   ]
  },
  {
   "cell_type": "markdown",
   "metadata": {},
   "source": [
    "## 2、计算斐波拉契数，给定n返回第n个斐波拉契数(限定使用循环)"
   ]
  },
  {
   "cell_type": "code",
   "execution_count": null,
   "metadata": {},
   "outputs": [],
   "source": [
    "def fib(n):\n",
    "    \"\"\"计算并返回第n个斐波拉契数, n >= 1。测试用例如下\n",
    "    >>> fib(1) \n",
    "    1\n",
    "    >>> fib(10)\n",
    "    55\n",
    "    >>> fib(0)\n",
    "    error: input n=0 is not >= 1, please try again!\n",
    "    0\n",
    "    >>> fib(30)\n",
    "    832040\n",
    "    >>> fib(-1)\n",
    "    error: input n=-1 is not >= 1, please try again!\n",
    "    0\n",
    "    \"\"\"\n",
    "    f1=1\n",
    "    f2=1\n",
    "    f3=0\n",
    "    if(n<1):\n",
    "        print(\"error: input n={} is not >= 1, please try again!\".format(n))\n",
    "    if(n<=2 and n>=1):\n",
    "        return 1\n",
    "    else:\n",
    "        for i in range(1,n-1,1):\n",
    "            f3=f1+f2\n",
    "            f1=f2\n",
    "            f2=f3\n",
    "        return f3  \n",
    "import doctest\n",
    "doctest.testmod()   "
   ]
  },
  {
   "cell_type": "markdown",
   "metadata": {},
   "source": [
    "## 3、实现两个数的最小公倍数"
   ]
  },
  {
   "cell_type": "code",
   "execution_count": null,
   "metadata": {},
   "outputs": [],
   "source": [
    "def multiple(a, b):\n",
    "    \"\"\" 返回a,b的最小的公倍数n\n",
    "    >>> multiple(3, 4)\n",
    "    12\n",
    "    >>> multiple(14, 21)\n",
    "    42\n",
    "    \"\"\"\n",
    "    MAX=max(a,b)\n",
    "    if MAX % a == 0 and MAX % b == 0:\n",
    "        return MAX\n",
    "    else:\n",
    "        while True:\n",
    "            MAX+=1\n",
    "            if MAX % a == 0 and MAX % b == 0:\n",
    "                break\n",
    "        return MAX\n",
    "import math\n",
    "import doctest\n",
    "doctest.testmod()   "
   ]
  },
  {
   "cell_type": "markdown",
   "metadata": {},
   "source": [
    "## 4、在整数中n移除digit数字"
   ]
  },
  {
   "cell_type": "code",
   "execution_count": null,
   "metadata": {
    "scrolled": false
   },
   "outputs": [],
   "source": [
    "def remove(n, digit):\n",
    "    \"\"\"\n",
    "    返回n中除digit数字外的其他所有数字，其中digit要求0<=digit<=9时移除，>10或<0时不处理\n",
    "    >>> remove(231, 3)\n",
    "    21\n",
    "    >>> remove(243132, 2)\n",
    "    4313\n",
    "    >>> remove(2451612, 12)\n",
    "    2451612\n",
    "    >>> remove(2451612, -3)\n",
    "    2451612\n",
    "    \"\"\"\n",
    "    N=str(n)\n",
    "    if digit >=0 and digit <=9:\n",
    "        for i in N:\n",
    "            if i == str(digit):\n",
    "                N=N.replace(i,\"\")\n",
    "        N=int(N)       \n",
    "        return N\n",
    "    else:\n",
    "        return n\n",
    "import doctest\n",
    "doctest.testmod() "
   ]
  }
 ],
 "metadata": {
  "kernelspec": {
   "display_name": "Python 3",
   "language": "python",
   "name": "python3"
  },
  "language_info": {
   "codemirror_mode": {
    "name": "ipython",
    "version": 3
   },
   "file_extension": ".py",
   "mimetype": "text/x-python",
   "name": "python",
   "nbconvert_exporter": "python",
   "pygments_lexer": "ipython3",
   "version": "3.7.3"
  }
 },
 "nbformat": 4,
 "nbformat_minor": 2
}
