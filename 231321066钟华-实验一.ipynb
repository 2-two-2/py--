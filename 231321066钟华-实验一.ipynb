{
 "cells": [
  {
   "cell_type": "markdown",
   "metadata": {},
   "source": [
    "# 实验1 开始python编程"
   ]
  },
  {
   "cell_type": "markdown",
   "metadata": {},
   "source": [
    "## 一、实验目的：\n",
    "### 1.了解Python的基本编程环境，熟悉其主要组成部分和使用\n",
    "### 2.了解python的特性\n",
    "### 3.学习安装和使用anaconda\n",
    "### 4.了解python语言的基本语法"
   ]
  },
  {
   "cell_type": "markdown",
   "metadata": {},
   "source": [
    "## 二、实验内容：\n",
    "### 1．安装和使用anaconda\n",
    "#### 1)\t拷贝并安装anaconda（注意安装路径、path等设置）\n",
    "#### 2)\t启动python的多种方式：\n",
    "+ Anaconda prompt（查看版本号-V、交互式、执行文件）\n",
    "+ Idle（交互式、执行文件）\n",
    "+ Jupyter Notebook（code、[markdown格式](https://www.jianshu.com/p/815788f4b01d)）\n",
    "\n",
    "#### 3)\t使用Jupyter Notebook完成下列操作\n",
    "- #### 根据课本第1章课后程序练习题1.1-1.6实操，熟练python语言开发环境\n",
    "- #### 参照1.7 五角星的绘制，实现7角，9角星的绘制 "
   ]
  },
  {
   "cell_type": "code",
   "execution_count": 1,
   "metadata": {},
   "outputs": [
    {
     "name": "stdout",
     "output_type": "stream",
     "text": [
      "请输入一个人的名字1\n",
      "请输入一个国家的名字：1\n",
      "世界这么大，1想去1看看\n"
     ]
    }
   ],
   "source": [
    "# 1.1字符串拼接\n",
    "str1=input(\"请输入一个人的名字\")\n",
    "str2=input(\"请输入一个国家的名字：\")\n",
    "print(\"世界这么大，{}想去{}看看\".format(str1,str2))"
   ]
  },
  {
   "cell_type": "code",
   "execution_count": 5,
   "metadata": {},
   "outputs": [
    {
     "name": "stdout",
     "output_type": "stream",
     "text": [
      "请输入整数N:10\n",
      "1到N求和结果： 55\n"
     ]
    }
   ],
   "source": [
    "#1.2整数序列求和\n",
    "n=input(\"请输入整数N:\")\n",
    "sum=0\n",
    "for i in range(int(n)):\n",
    "    sum+=i+1\n",
    "print(\"1到N求和结果：\",sum)"
   ]
  },
  {
   "cell_type": "code",
   "execution_count": 10,
   "metadata": {},
   "outputs": [
    {
     "name": "stdout",
     "output_type": "stream",
     "text": [
      "1*1= 1 \n",
      "1*2= 2 2*2= 4 \n",
      "1*3= 3 2*3= 6 3*3= 9 \n",
      "1*4= 4 2*4= 8 3*4=12 4*4=16 \n",
      "1*5= 5 2*5=10 3*5=15 4*5=20 5*5=25 \n",
      "1*6= 6 2*6=12 3*6=18 4*6=24 5*6=30 6*6=36 \n",
      "1*7= 7 2*7=14 3*7=21 4*7=28 5*7=35 6*7=42 7*7=49 \n",
      "1*8= 8 2*8=16 3*8=24 4*8=32 5*8=40 6*8=48 7*8=56 8*8=64 \n",
      "1*9= 9 2*9=18 3*9=27 4*9=36 5*9=45 6*9=54 7*9=63 8*9=72 9*9=81 \n"
     ]
    }
   ],
   "source": [
    "#1.3九九乘法表输出\n",
    "for i in range(1,10):\n",
    "    for j in range(1,i+1):\n",
    "        print(\"{}*{}={:2}\".format(j,i,i*j),end=' ')\n",
    "    print('')"
   ]
  },
  {
   "cell_type": "code",
   "execution_count": 12,
   "metadata": {},
   "outputs": [
    {
     "name": "stdout",
     "output_type": "stream",
     "text": [
      "运算结果是：4037913\n"
     ]
    }
   ],
   "source": [
    "#1.4计算十的阶乘相加\n",
    "sum,tmp=0,1\n",
    "for i in range(1,11):\n",
    "    tmp*=i\n",
    "    sum+=tmp\n",
    "print(\"运算结果是：{}\".format(sum))"
   ]
  },
  {
   "cell_type": "code",
   "execution_count": 14,
   "metadata": {},
   "outputs": [
    {
     "name": "stdout",
     "output_type": "stream",
     "text": [
      "46\n"
     ]
    }
   ],
   "source": [
    "#1.5猴子吃桃问题\n",
    "n=1\n",
    "for i in range(4,0,-1):\n",
    "    n=(n+1)<<1\n",
    "print(n)"
   ]
  },
  {
   "cell_type": "code",
   "execution_count": 18,
   "metadata": {},
   "outputs": [
    {
     "name": "stdout",
     "output_type": "stream",
     "text": [
      "西红柿花椰菜\n",
      "西红柿黄瓜\n",
      "西红柿牛排\n",
      "西红柿虾仁\n",
      "花椰菜西红柿\n",
      "花椰菜黄瓜\n",
      "花椰菜牛排\n",
      "花椰菜虾仁\n",
      "黄瓜西红柿\n",
      "黄瓜花椰菜\n",
      "黄瓜牛排\n",
      "黄瓜虾仁\n",
      "牛排西红柿\n",
      "牛排花椰菜\n",
      "牛排黄瓜\n",
      "牛排虾仁\n",
      "虾仁西红柿\n",
      "虾仁花椰菜\n",
      "虾仁黄瓜\n",
      "虾仁牛排\n"
     ]
    }
   ],
   "source": [
    "#1.6健康食谱问题\n",
    "diet = [\"西红柿\",\"花椰菜\",\"黄瓜\",\"牛排\",\"虾仁\"]\n",
    "for x in range(0,5):\n",
    "    for y in range(0,5):\n",
    "        if not (x==y):\n",
    "            print(\"{}{}\".format(diet[x],diet[y]))"
   ]
  },
  {
   "cell_type": "code",
   "execution_count": 5,
   "metadata": {},
   "outputs": [],
   "source": [
    "#五角星的绘制\n",
    "from turtle import *\n",
    "fillcolor(\"red\")\n",
    "begin_fill()\n",
    "while True :\n",
    "    forward(200)\n",
    "    right(145)\n",
    "    if abs(pos()) < 1 :\n",
    "        break\n",
    "end_fill()"
   ]
  },
  {
   "cell_type": "code",
   "execution_count": 4,
   "metadata": {},
   "outputs": [],
   "source": [
    "#七角星的绘制\n",
    "import turtle \n",
    "\n",
    "import time\n",
    "\n",
    "t = turtle.Pen()\n",
    "for i in range(7):\n",
    "    t.forward(100)\n",
    "    t.right(180-180/7)\n"
   ]
  },
  {
   "cell_type": "code",
   "execution_count": 4,
   "metadata": {},
   "outputs": [],
   "source": [
    "#九角星的绘制\n",
    "from turtle import *\n",
    "fillcolor(\"red\")\n",
    "begin_fill()\n",
    "while True :\n",
    "    forward(200)\n",
    "    right(160)\n",
    "    forward(200)\n",
    "    right(160)\n",
    "    forward(200)\n",
    "    right(160)\n",
    "    if abs(pos()) < 1 :\n",
    "        break\n",
    "end_fill()"
   ]
  },
  {
   "cell_type": "code",
   "execution_count": null,
   "metadata": {},
   "outputs": [],
   "source": []
  }
 ],
 "metadata": {
  "kernelspec": {
   "display_name": "Python 3",
   "language": "python",
   "name": "python3"
  },
  "language_info": {
   "codemirror_mode": {
    "name": "ipython",
    "version": 3
   },
   "file_extension": ".py",
   "mimetype": "text/x-python",
   "name": "python",
   "nbconvert_exporter": "python",
   "pygments_lexer": "ipython3",
   "version": "3.7.3"
  }
 },
 "nbformat": 4,
 "nbformat_minor": 2
}
