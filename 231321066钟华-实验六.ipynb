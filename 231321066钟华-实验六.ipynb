{
 "cells": [
  {
   "cell_type": "markdown",
   "metadata": {},
   "source": [
    "# 一、实验目的：\n",
    "## 1.掌握第三章中字符串类型在计算机中的表示方式\n",
    "## 2.使用Python中常用的字符串操作方法\n",
    "## 3.掌握正则表达式的使用\n",
    "\n",
    "# 二、实验内容："
   ]
  },
  {
   "cell_type": "markdown",
   "metadata": {},
   "source": [
    "## 1、镜像输出：输入一个字串，输出原字符串和它的逆序，并要求在逆序串中互换原字串的大小写（即原大写字母改为小写，小写字母改大写）"
   ]
  },
  {
   "cell_type": "code",
   "execution_count": 62,
   "metadata": {},
   "outputs": [
    {
     "data": {
      "text/plain": [
       "TestResults(failed=0, attempted=9)"
      ]
     },
     "execution_count": 62,
     "metadata": {},
     "output_type": "execute_result"
    }
   ],
   "source": [
    "def make_mirror(s):\n",
    "    '''\n",
    "    >>> make_mirror(\"hello\")\n",
    "    'hello->OLLEH'\n",
    "\n",
    "    >>> make_mirror(\"World\")\n",
    "    'World->DLROw'\n",
    "    \n",
    "    >>> make_mirror(\"Python 123\")\n",
    "    'Python 123->321 NOHTYp'\n",
    "    \n",
    "    '''\n",
    "    s_mirror = s[::-1]\n",
    "    for char in s_mirror:\n",
    "        if 'a' <= char <= 'z' :\n",
    "\n",
    "            s_mirror = s_mirror.replace(char, char.upper())\n",
    "\n",
    "        if 'A' <= char <= 'Z' :\n",
    "          \n",
    "            s_mirror = s_mirror.replace(char, char.lower())\n",
    "\n",
    "    return s + '->' + s_mirror\n",
    "\n",
    "\n",
    "import doctest\n",
    "doctest.testmod()"
   ]
  },
  {
   "cell_type": "markdown",
   "metadata": {},
   "source": [
    "## 2、利用字符串居中或格式化居中打印菱形，行数和列数相等且不为偶数。\n"
   ]
  },
  {
   "cell_type": "code",
   "execution_count": 61,
   "metadata": {},
   "outputs": [
    {
     "name": "stdout",
     "output_type": "stream",
     "text": [
      "   *   \n",
      "  ***  \n",
      " ***** \n",
      "*******\n",
      " ***** \n",
      "  ***  \n",
      "   *   \n"
     ]
    }
   ],
   "source": [
    "def print_rhomb(k):\n",
    "    '''\n",
    "    输入k为奇数，输出k行k列菱形， 如k==7\n",
    "    print_rhomb(7)\n",
    "    \n",
    "    '''\n",
    "    # 打印上半部分的菱形\n",
    "    for i in range(1, k + 1, 2):\n",
    "        print(\"{:^{}}\".format(\"*\" * i, k))\n",
    "        \n",
    "    # 打印下半部分的菱形\n",
    "    for i in range(k - 2, 0, -2):\n",
    "        print(\"{:^{}}\".format(\"*\" * i, k))\n",
    "\n",
    "if __name__ == \"__main__\":\n",
    "  print_rhomb(7)\n",
    "\n"
   ]
  },
  {
   "cell_type": "markdown",
   "metadata": {},
   "source": [
    "# 3、编写程序，实现给出“身份证号”，检查格式是否符合要求后，返回年月日和性别(第17位奇数为男性，偶数为女性)\n",
    "## 格式要求：\n",
    "- 身份证号要求符合基本格式 (17位数字+1数字/X)\n",
    "\n",
    "\n",
    "## 输出格式要求\n",
    "- 出生年月日靠左对齐，宽度20\n",
    "- 性别显示中文，靠右对齐，宽度4"
   ]
  },
  {
   "cell_type": "code",
   "execution_count": 60,
   "metadata": {},
   "outputs": [
    {
     "data": {
      "text/plain": [
       "TestResults(failed=0, attempted=9)"
      ]
     },
     "execution_count": 60,
     "metadata": {},
     "output_type": "execute_result"
    }
   ],
   "source": [
    "\n",
    "def is_valid_idcard(idcard):\n",
    "    '''\n",
    "    判断身份证格式是否合规\n",
    "    >>> is_valid_idcard(\"360503200101121122\")\n",
    "    True\n",
    "    >>> is_valid_idcard(\"2360302202105121133X\")\n",
    "    False\n",
    "    '''\n",
    "    if len(idcard) != 18:\n",
    "        return False\n",
    "    if not idcard[0:17].isdigit():\n",
    "        return False\n",
    "    if idcard[-1] not in [\"X\"] and not idcard[-1].isdigit():\n",
    "        return False\n",
    "    return True\n",
    "        \n",
    "\n",
    "\n",
    "def idcard_parse(idcard):\n",
    "    ''' \n",
    "    >>> idcard_parse(\"360503200101121122\")\n",
    "    '20010112               女'\n",
    "\n",
    "    >>> idcard_parse(\"36030220210512113X\")\n",
    "    '20210512               男'\n",
    "    \n",
    "    >>> idcard_parse(\"2360302202105121133X\")\n",
    "    'Error: 格式不正确（17位数字+1数字/X）'\n",
    "    \n",
    "    >>> idcard_parse(\"36B30220210512113X\")\n",
    "    'Error: 格式不正确（17位数字+1数字/X）'\n",
    "    '''\n",
    "    if  not is_valid_idcard(idcard):\n",
    "        return 'Error: 格式不正确（17位数字+1数字/X）'\n",
    "\n",
    "    # 解析出生日期\n",
    "    birthday_str = idcard[6:14]\n",
    "\n",
    "    # 解析性别\n",
    "    gender_code = int(idcard[-2])\n",
    "    if gender_code % 2 == 0:\n",
    "        gender = \"女\"\n",
    "    else:\n",
    "        gender = \"男\"\n",
    "\n",
    "    # 拼接输出字符串\n",
    "    return \"{:<23}{}\".format(birthday_str, gender)\n",
    "\n",
    "\n",
    "    \n",
    "\n",
    "import doctest\n",
    "doctest.testmod()"
   ]
  },
  {
   "attachments": {},
   "cell_type": "markdown",
   "metadata": {},
   "source": [
    "### 改良年月日输出----美观优化"
   ]
  },
  {
   "cell_type": "code",
   "execution_count": 63,
   "metadata": {},
   "outputs": [
    {
     "data": {
      "text/plain": [
       "TestResults(failed=0, attempted=9)"
      ]
     },
     "execution_count": 63,
     "metadata": {},
     "output_type": "execute_result"
    }
   ],
   "source": [
    "def is_valid_idcard(idcard):\n",
    "    '''\n",
    "    判断身份证格式是否合规\n",
    "    >>> is_valid_idcard(\"360503200101121122\")\n",
    "    True\n",
    "    >>> is_valid_idcard(\"2360302202105121133X\")\n",
    "    False\n",
    "    '''\n",
    "    if len(idcard) != 18:\n",
    "        return False\n",
    "    if not idcard[0:17].isdigit():\n",
    "        return False\n",
    "    if idcard[-1] not in [\"X\"] and not idcard[-1].isdigit():\n",
    "        return False\n",
    "    return True\n",
    "\n",
    "\n",
    "def idcard_parse(idcard):\n",
    "    ''' \n",
    "    >>> idcard_parse(\"360503200101121122\")\n",
    "    '2001年01月12日             女'\n",
    "\n",
    "    >>> idcard_parse(\"36030220210512113X\")\n",
    "    '2021年05月12日             男'\n",
    "    \n",
    "    >>> idcard_parse(\"2360302202105121133X\")\n",
    "    'Error: 格式不正确（17位数字+1数字/X）'\n",
    "    \n",
    "    >>> idcard_parse(\"36B30220210512113X\")\n",
    "    'Error: 格式不正确（17位数字+1数字/X）'\n",
    "    '''\n",
    "    if not is_valid_idcard(idcard):\n",
    "        return 'Error: 格式不正确（17位数字+1数字/X）'\n",
    "\n",
    "    # 解析出生日期\n",
    "    birth_year = idcard[6:10]\n",
    "    birth_month = idcard[10:12]\n",
    "    birth_day = idcard[12:14]\n",
    "    birthday_str = \"{}年{}月{}日\".format(birth_year, birth_month, birth_day)\n",
    "\n",
    "    # 解析性别\n",
    "    gender_code = int(idcard[-2])\n",
    "    if gender_code % 2 == 0:\n",
    "        gender = \"女\"\n",
    "    else:\n",
    "        gender = \"男\"\n",
    "\n",
    "    # 拼接输出字符串\n",
    "    return \"{:<24}{}\".format(birthday_str, gender)\n",
    "\n",
    "\n",
    "import doctest\n",
    "doctest.testmod()\n"
   ]
  }
 ],
 "metadata": {
  "kernelspec": {
   "display_name": "Python 3",
   "language": "python",
   "name": "python3"
  },
  "language_info": {
   "codemirror_mode": {
    "name": "ipython",
    "version": 3
   },
   "file_extension": ".py",
   "mimetype": "text/x-python",
   "name": "python",
   "nbconvert_exporter": "python",
   "pygments_lexer": "ipython3",
   "version": "3.7.3"
  }
 },
 "nbformat": 4,
 "nbformat_minor": 2
}
