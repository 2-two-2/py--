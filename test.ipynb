{
 "cells": [
  {
   "cell_type": "markdown",
   "metadata": {},
   "source": [
    "# 以下仅用于测试"
   ]
  },
  {
   "cell_type": "code",
   "execution_count": null,
   "metadata": {},
   "outputs": [],
   "source": [
    "def product(n, algo):\n",
    "    \"\"\"返回 前n个数分别algo计算后的累乘积\n",
    "    n: 正整数\n",
    "    algo:  算法函数\n",
    "    >>> product(3, identity)  # 1 * 2 * 3\n",
    "    #n=3\n",
    "    #algo=identity\n",
    "    #\n",
    "    # 1 * 2 * 3\n",
    "    6\n",
    "    >>> product(5, identity)  # 1 * 2 * 3 * 4 * 5\n",
    "    120\n",
    "    >>> product(3, square)    # 1^2 * 2^2 * 3^2\n",
    "    36\n",
    "    >>> product(5, square)    # 1^2 * 2^2 * 3^2 * 4^2 * 5^2\n",
    "    14400\n",
    "    >>> product(3, increment) # (1+1) * (2+1) * (3+1)\n",
    "    24\n",
    "    >>> product(3, triple)    # 1*3 * 2*3 * 3*3\n",
    "    162\n",
    "    \"\"\"\n",
    "    n=n\n",
    "    sum = 1\n",
    "    def algo(n):\n",
    "        while n>=1:\n",
    "          n=n-1\n",
    "          sum=sum*algo\n",
    "          return sum\n",
    "import doctest\n",
    "doctest.testmod()   "
   ]
  },
  {
   "cell_type": "code",
   "execution_count": null,
   "metadata": {},
   "outputs": [],
   "source": [
    "s=\"hello \"+\"word\"\n",
    "print(s)"
   ]
  },
  {
   "cell_type": "code",
   "execution_count": null,
   "metadata": {},
   "outputs": [],
   "source": [
    "s[6:]"
   ]
  },
  {
   "cell_type": "code",
   "execution_count": null,
   "metadata": {},
   "outputs": [],
   "source": [
    "'h' in s"
   ]
  },
  {
   "cell_type": "code",
   "execution_count": null,
   "metadata": {},
   "outputs": [],
   "source": [
    "type(int(\"6\"))"
   ]
  },
  {
   "cell_type": "code",
   "execution_count": null,
   "metadata": {},
   "outputs": [],
   "source": [
    "eval(\"7+11*2\")"
   ]
  },
  {
   "cell_type": "code",
   "execution_count": null,
   "metadata": {},
   "outputs": [],
   "source": [
    "PI=3.14\n",
    "print(PI)"
   ]
  },
  {
   "cell_type": "code",
   "execution_count": null,
   "metadata": {},
   "outputs": [],
   "source": [
    "a=123\n",
    "a=\"ABC\"\n",
    "print(a)"
   ]
  },
  {
   "cell_type": "code",
   "execution_count": null,
   "metadata": {},
   "outputs": [],
   "source": [
    "print(dir(\"aaa\"))"
   ]
  },
  {
   "cell_type": "code",
   "execution_count": null,
   "metadata": {},
   "outputs": [],
   "source": [
    "print(pow(2,3))"
   ]
  },
  {
   "cell_type": "code",
   "execution_count": null,
   "metadata": {},
   "outputs": [],
   "source": [
    "import math\n",
    "print(math.pi)"
   ]
  },
  {
   "cell_type": "code",
   "execution_count": null,
   "metadata": {},
   "outputs": [],
   "source": [
    "ins =input(\"请输入十进制数值:\")\n",
    "print(eval(ins))\n",
    "print(type(ins))"
   ]
  },
  {
   "cell_type": "code",
   "execution_count": null,
   "metadata": {},
   "outputs": [],
   "source": [
    "f=min\n",
    "f=max\n",
    "g,h=min,max\n",
    "max=g\n",
    "max(f(2,g(h(1,5),3)),4)"
   ]
  },
  {
   "cell_type": "code",
   "execution_count": null,
   "metadata": {},
   "outputs": [],
   "source": [
    "a=input(\"请输入一个整数：\") #取得一个字符串\n",
    "try:\n",
    "    a=int(a)  #将字符串转化为整数\n",
    "    if a>6:\n",
    "        print(a,\"大于6\")\n",
    "    else:\n",
    "        print(a,\"小于等于6\")\n",
    "except:\n",
    "    print(\"请输入一个整数：\")"
   ]
  },
  {
   "cell_type": "code",
   "execution_count": null,
   "metadata": {},
   "outputs": [],
   "source": [
    "name = input(\"input your name\")\n",
    "\n",
    "print(f\"your name is: {name}\")"
   ]
  },
  {
   "attachments": {},
   "cell_type": "markdown",
   "metadata": {},
   "source": [
    "### 凯撒密码"
   ]
  },
  {
   "cell_type": "code",
   "execution_count": null,
   "metadata": {},
   "outputs": [],
   "source": [
    "plaincooders = input(\"请输入明文\")\n",
    "for p in plaincooders:\n",
    "    if ord(\"a\") <= ord(p) <= ord(\"z\"):\n",
    "        print(chr(ord(\"a\") + (ord(p) - ord(\"a\") + 3 )%26),end = '')\n",
    "    else:\n",
    "        print(p,end='')"
   ]
  },
  {
   "cell_type": "code",
   "execution_count": null,
   "metadata": {},
   "outputs": [],
   "source": [
    "def is_valid_idcard(idcard):\n",
    "    '''\n",
    "    判断身份证格式是否合规\n",
    "    >>> is_valid_idcard(\"360503200101121122\")\n",
    "    True\n",
    "    >>> is_valid_idcard(\"2360302202105121133X\")\n",
    "    False\n",
    "    '''\n",
    "    if len(idcard) != 18:\n",
    "        return False\n",
    "    if not idcard[0:17].isdigit():\n",
    "        return False\n",
    "    if idcard[-1] not in [\"X\"] and not idcard[-1].isdigit():\n",
    "        return False\n",
    "    return True\n",
    "\n",
    "def idcard_parse(idcard):\n",
    "    '''\n",
    "    >>> idcard_parse(\"360503200101121122\")\n",
    "    '20010112               女'\n",
    "\n",
    "    >>> idcard_parse(\"36030220210512113X\")\n",
    "    '20210512               男'\n",
    "\n",
    "    >>> idcard_parse(\"2360302202105121133X\")\n",
    "    'Error: 格式不正确（17位数字+1数字/X）'\n",
    "\n",
    "    >>> idcard_parse(\"36B30220210512113X\")\n",
    "    'Error: 格式不正确（17位数字+1数字/X）'\n",
    "    '''\n",
    "    gender=\"\"\n",
    "    digit=idcard[6:14]\n",
    "    if len(idcard)==18:\n",
    "        if idcard[:17].isdigit():\n",
    "            if idcard[-1]=='X' or idcard[-1].isdigit():\n",
    "                if int(idcard[-2])%2==1:\n",
    "                    gender=\"男\"\n",
    "                else:\n",
    "                    gender=\"女\"\n",
    "                return f\"{digit}{' '*15}{gender}\"\n",
    "            else:\n",
    "                return 'Error: 格式不正确（17位数字+1数字/X）'\n",
    "        else:\n",
    "            return 'Error: 格式不正确（17位数字+1数字/X）'\n",
    "    else:\n",
    "        return 'Error: 格式不正确（17位数字+1数字/X）'\n",
    "\n",
    "\n",
    "import doctest\n",
    "\n",
    "doctest.testmod()"
   ]
  },
  {
   "cell_type": "code",
   "execution_count": null,
   "metadata": {},
   "outputs": [],
   "source": [
    "name = []\n",
    "for _ in range(3):    \n",
    "  name = input(\"What your name is?\")\n"
   ]
  },
  {
   "cell_type": "code",
   "execution_count": null,
   "metadata": {},
   "outputs": [],
   "source": [
    "import os \n",
    "os.system(\"mkdir doctor\")"
   ]
  }
 ],
 "metadata": {
  "kernelspec": {
   "display_name": "Python 3",
   "language": "python",
   "name": "python3"
  },
  "language_info": {
   "codemirror_mode": {
    "name": "ipython",
    "version": 3
   },
   "file_extension": ".py",
   "mimetype": "text/x-python",
   "name": "python",
   "nbconvert_exporter": "python",
   "pygments_lexer": "ipython3",
   "version": "3.7.3"
  }
 },
 "nbformat": 4,
 "nbformat_minor": 2
}
